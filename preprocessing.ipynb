{
 "cells": [
  {
   "cell_type": "code",
   "execution_count": null,
   "metadata": {},
   "outputs": [],
   "source": [
    "# import tensorflow as tf\n",
    "# from sklearn.model_selection import train_test_split\n",
    "\n",
    "# # Define the dataset directory\n",
    "# dataset_dir = \"./PlantVillage-Dataset/raw/color\"\n",
    "\n",
    "# # Load the dataset and split it into training and validation sets\n",
    "# train_dataset = tf.keras.preprocessing.image_dataset_from_directory(\n",
    "#     dataset_dir,\n",
    "#     validation_split=0.2,  # Reserve 20% of the data for validation\n",
    "#     subset=\"training\",\n",
    "#     seed=123,  # Ensures reproducibility\n",
    "#     image_size=(224, 224),  # Resize images to this size\n",
    "#     batch_size=32,  # Adjust based on your needs\n",
    "#     label_mode='categorical'  # Use 'categorical' for multi-class labels\n",
    "# )\n",
    "\n",
    "# val_dataset = tf.keras.preprocessing.image_dataset_from_directory(\n",
    "#     dataset_dir,\n",
    "#     validation_split=0.2,  # Reserve 20% of the data for validation\n",
    "#     subset=\"validation\",\n",
    "#     seed=123,  # Ensures reproducibility\n",
    "#     image_size=(224, 224),\n",
    "#     batch_size=32,\n",
    "#     label_mode='categorical'\n",
    "# )\n",
    "\n",
    "# # Further split the validation dataset into validation and test sets\n",
    "# val_batches = tf.data.experimental.cardinality(val_dataset)\n",
    "# test_dataset = val_dataset.take(val_batches // 2)\n",
    "# val_dataset = val_dataset.skip(val_batches // 2)\n",
    "\n",
    "# # Configure the dataset for performance\n",
    "# AUTOTUNE = tf.data.AUTOTUNE\n",
    "# train_dataset = train_dataset.prefetch(buffer_size=AUTOTUNE)\n",
    "# val_dataset = val_dataset.prefetch(buffer_size=AUTOTUNE)\n",
    "# test_dataset = test_dataset.prefetch(buffer_size=AUTOTUNE)"
   ]
  },
  {
   "cell_type": "markdown",
   "metadata": {},
   "source": [
    "### Moving the files around"
   ]
  },
  {
   "cell_type": "code",
   "execution_count": 13,
   "metadata": {},
   "outputs": [],
   "source": [
    "import os\n",
    "import shutil\n",
    "from sklearn.model_selection import train_test_split\n",
    "import tensorflow as tf\n",
    "\n",
    "original_dataset_dir = './PlantVillage-Dataset/raw/color'\n",
    "new_base_dir = './PlantVillage-Dataset-processed'\n",
    "\n",
    "# Splitting ratio\n",
    "train_ratio = 0.8\n",
    "test_ratio = 0.2\n",
    "\n",
    "# Ensure the new directory exists\n",
    "os.makedirs(new_base_dir, exist_ok=True)"
   ]
  },
  {
   "cell_type": "code",
   "execution_count": 14,
   "metadata": {},
   "outputs": [
    {
     "name": "stdout",
     "output_type": "stream",
     "text": [
      "Processing Apple___Apple_scab ...\n",
      "Processing Apple___Black_rot ...\n",
      "Processing Apple___Cedar_apple_rust ...\n",
      "Processing Apple___healthy ...\n",
      "Processing Blueberry___healthy ...\n",
      "Processing Cherry_(including_sour)___healthy ...\n",
      "Processing Cherry_(including_sour)___Powdery_mildew ...\n",
      "Processing Corn_(maize)___Cercospora_leaf_spot Gray_leaf_spot ...\n",
      "Processing Corn_(maize)___Common_rust_ ...\n",
      "Processing Corn_(maize)___healthy ...\n",
      "Processing Corn_(maize)___Northern_Leaf_Blight ...\n",
      "Processing Grape___Black_rot ...\n",
      "Processing Grape___Esca_(Black_Measles) ...\n",
      "Processing Grape___healthy ...\n",
      "Processing Grape___Leaf_blight_(Isariopsis_Leaf_Spot) ...\n",
      "Processing Orange___Haunglongbing_(Citrus_greening) ...\n",
      "Processing Peach___Bacterial_spot ...\n",
      "Processing Peach___healthy ...\n",
      "Processing Pepper,_bell___Bacterial_spot ...\n",
      "Processing Pepper,_bell___healthy ...\n",
      "Processing Potato___Early_blight ...\n",
      "Processing Potato___healthy ...\n",
      "Processing Potato___Late_blight ...\n",
      "Processing Raspberry___healthy ...\n",
      "Processing Soybean___healthy ...\n",
      "Processing Squash___Powdery_mildew ...\n",
      "Processing Strawberry___healthy ...\n",
      "Processing Strawberry___Leaf_scorch ...\n",
      "Processing Tomato___Bacterial_spot ...\n",
      "Processing Tomato___Early_blight ...\n",
      "Processing Tomato___healthy ...\n",
      "Processing Tomato___Late_blight ...\n",
      "Processing Tomato___Leaf_Mold ...\n",
      "Processing Tomato___Septoria_leaf_spot ...\n",
      "Processing Tomato___Spider_mites Two-spotted_spider_mite ...\n",
      "Processing Tomato___Target_Spot ...\n",
      "Processing Tomato___Tomato_mosaic_virus ...\n",
      "Processing Tomato___Tomato_Yellow_Leaf_Curl_Virus ...\n"
     ]
    }
   ],
   "source": [
    "# Function to resize and save an image\n",
    "def resize_and_save_image(src_path, dest_path, new_size=(256, 256)):\n",
    "    image = tf.keras.preprocessing.image.load_img(src_path, target_size=new_size)\n",
    "    image.save(dest_path)\n",
    "\n",
    "# Loop through each class directory\n",
    "for class_name in os.listdir(original_dataset_dir):\n",
    "    print(f'Processing {class_name} ...')\n",
    "    # Create new directories for train and test sets for the current class\n",
    "    os.makedirs(os.path.join(new_base_dir, 'train', class_name), exist_ok=True)\n",
    "    os.makedirs(os.path.join(new_base_dir, 'test', class_name), exist_ok=True)\n",
    "\n",
    "    # List all images in the current class directory\n",
    "    images = os.listdir(os.path.join(original_dataset_dir, class_name))\n",
    "    images = [img for img in images if img.lower().endswith(('png', 'jpg', 'jpeg'))]  # Filter out non-image files\n",
    "\n",
    "    # Split images into train and test sets\n",
    "    train_images, test_images = train_test_split(images, test_size=test_ratio, random_state=42)\n",
    "\n",
    "    # Resize and save train images\n",
    "    for img in train_images:\n",
    "        src_path = os.path.join(original_dataset_dir, class_name, img)\n",
    "        dest_path = os.path.join(new_base_dir, 'train', class_name, img)\n",
    "        resize_and_save_image(src_path, dest_path)\n",
    "\n",
    "    # Resize and save test images\n",
    "    for img in test_images:\n",
    "        src_path = os.path.join(original_dataset_dir, class_name, img)\n",
    "        dest_path = os.path.join(new_base_dir, 'test', class_name, img)\n",
    "        resize_and_save_image(src_path, dest_path)\n"
   ]
  },
  {
   "cell_type": "code",
   "execution_count": null,
   "metadata": {},
   "outputs": [],
   "source": []
  }
 ],
 "metadata": {
  "kernelspec": {
   "display_name": "mlp",
   "language": "python",
   "name": "python3"
  },
  "language_info": {
   "codemirror_mode": {
    "name": "ipython",
    "version": 3
   },
   "file_extension": ".py",
   "mimetype": "text/x-python",
   "name": "python",
   "nbconvert_exporter": "python",
   "pygments_lexer": "ipython3",
   "version": "3.11.5"
  }
 },
 "nbformat": 4,
 "nbformat_minor": 2
}
